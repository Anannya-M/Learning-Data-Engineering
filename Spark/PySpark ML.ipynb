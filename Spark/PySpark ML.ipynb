{
 "cells": [
  {
   "cell_type": "code",
   "execution_count": 1,
   "id": "1e1d4b62",
   "metadata": {},
   "outputs": [],
   "source": [
    "#IMPORTING ALL NECESSARY LIBRARIES\n",
    "\n",
    "from pyspark.sql import SparkSession\n",
    "import pandas as pd"
   ]
  },
  {
   "cell_type": "code",
   "execution_count": 2,
   "id": "d2a6fb6a",
   "metadata": {},
   "outputs": [],
   "source": [
    "#CREATING A SPARKSESSION\n",
    "\n",
    "spark_session = SparkSession.builder.appName('SparkML Practice').getOrCreate()"
   ]
  },
  {
   "cell_type": "code",
   "execution_count": 3,
   "id": "e812da84",
   "metadata": {},
   "outputs": [
    {
     "data": {
      "text/html": [
       "\n",
       "            <div>\n",
       "                <p><b>SparkSession - in-memory</b></p>\n",
       "                \n",
       "        <div>\n",
       "            <p><b>SparkContext</b></p>\n",
       "\n",
       "            <p><a href=\"http://LAPTOP-6AVN8HIF:4040\">Spark UI</a></p>\n",
       "\n",
       "            <dl>\n",
       "              <dt>Version</dt>\n",
       "                <dd><code>v3.5.0</code></dd>\n",
       "              <dt>Master</dt>\n",
       "                <dd><code>local[*]</code></dd>\n",
       "              <dt>AppName</dt>\n",
       "                <dd><code>SparkML Practice</code></dd>\n",
       "            </dl>\n",
       "        </div>\n",
       "        \n",
       "            </div>\n",
       "        "
      ],
      "text/plain": [
       "<pyspark.sql.session.SparkSession at 0x1e5c7ba6680>"
      ]
     },
     "execution_count": 3,
     "metadata": {},
     "output_type": "execute_result"
    }
   ],
   "source": [
    "spark_session"
   ]
  },
  {
   "cell_type": "code",
   "execution_count": 35,
   "id": "babefe5f",
   "metadata": {},
   "outputs": [],
   "source": [
    "#READING THE DATASET\n",
    "\n",
    "data = spark_session.read.csv(\"D:\\\\Datasets\\\\Spark_dataset.csv\", header=True, inferSchema=True)"
   ]
  },
  {
   "cell_type": "code",
   "execution_count": 36,
   "id": "65207809",
   "metadata": {},
   "outputs": [
    {
     "data": {
      "text/plain": [
       "DataFrame[Name: string, age: int, Experience: int, Salary: int]"
      ]
     },
     "execution_count": 36,
     "metadata": {},
     "output_type": "execute_result"
    }
   ],
   "source": [
    "data"
   ]
  },
  {
   "cell_type": "code",
   "execution_count": 37,
   "id": "3d496a7a",
   "metadata": {},
   "outputs": [
    {
     "name": "stdout",
     "output_type": "stream",
     "text": [
      "+--------+---+----------+------+\n",
      "|    Name|age|Experience|Salary|\n",
      "+--------+---+----------+------+\n",
      "|  Hitesh| 27|         5| 30000|\n",
      "|  Mahesh| 30|         8|250000|\n",
      "|   Rohit| 29|         4| 20000|\n",
      "|  Rakesh| 24|         3|200000|\n",
      "|Harshali| 21|         1| 15000|\n",
      "|  Khushi| 23|         2|180000|\n",
      "|   Shyam| 26|         7| 90000|\n",
      "|  Meghna| 23|         5| 50000|\n",
      "|   Pooja| 46|         8|100000|\n",
      "+--------+---+----------+------+\n",
      "\n"
     ]
    }
   ],
   "source": [
    "data.show()"
   ]
  },
  {
   "cell_type": "code",
   "execution_count": 38,
   "id": "0482b1a9",
   "metadata": {},
   "outputs": [
    {
     "name": "stdout",
     "output_type": "stream",
     "text": [
      "root\n",
      " |-- Name: string (nullable = true)\n",
      " |-- age: integer (nullable = true)\n",
      " |-- Experience: integer (nullable = true)\n",
      " |-- Salary: integer (nullable = true)\n",
      "\n"
     ]
    }
   ],
   "source": [
    "#DISPLAYING THE SCHEMA OF THE DATAFRAME\n",
    "\n",
    "data.printSchema()"
   ]
  },
  {
   "cell_type": "code",
   "execution_count": 39,
   "id": "c21fa9c3",
   "metadata": {},
   "outputs": [
    {
     "data": {
      "text/plain": [
       "['Name', 'age', 'Experience', 'Salary']"
      ]
     },
     "execution_count": 39,
     "metadata": {},
     "output_type": "execute_result"
    }
   ],
   "source": [
    "#DISPLAYING THE ONLY THE COLUMNS OF DATAFRAME\n",
    "\n",
    "data.columns"
   ]
  },
  {
   "cell_type": "code",
   "execution_count": 40,
   "id": "12bb51a8",
   "metadata": {},
   "outputs": [],
   "source": [
    "#TO GROUP THE INDENPENDENT FEATURES (HERE 'AGE' & 'EXPERIENCE') USING THE CONCEPT OF VECTOR ASSEMBLER\n",
    "\n",
    "from pyspark.ml.feature import VectorAssembler\n",
    "\n",
    "feature_assembler = VectorAssembler(inputCols=['age','Experience'],outputCol='Independent Feature')"
   ]
  },
  {
   "cell_type": "code",
   "execution_count": 41,
   "id": "6107a3b5",
   "metadata": {},
   "outputs": [],
   "source": [
    "#TO MAKE CHANGES IN THE DATAFRAME, WE NEED TO USE THE transform() FUNCTION\n",
    "\n",
    "output = feature_assembler.transform(data)"
   ]
  },
  {
   "cell_type": "code",
   "execution_count": 42,
   "id": "c72f4c67",
   "metadata": {},
   "outputs": [
    {
     "name": "stdout",
     "output_type": "stream",
     "text": [
      "+--------+---+----------+------+-------------------+\n",
      "|    Name|age|Experience|Salary|Independent Feature|\n",
      "+--------+---+----------+------+-------------------+\n",
      "|  Hitesh| 27|         5| 30000|         [27.0,5.0]|\n",
      "|  Mahesh| 30|         8|250000|         [30.0,8.0]|\n",
      "|   Rohit| 29|         4| 20000|         [29.0,4.0]|\n",
      "|  Rakesh| 24|         3|200000|         [24.0,3.0]|\n",
      "|Harshali| 21|         1| 15000|         [21.0,1.0]|\n",
      "|  Khushi| 23|         2|180000|         [23.0,2.0]|\n",
      "|   Shyam| 26|         7| 90000|         [26.0,7.0]|\n",
      "|  Meghna| 23|         5| 50000|         [23.0,5.0]|\n",
      "|   Pooja| 46|         8|100000|         [46.0,8.0]|\n",
      "+--------+---+----------+------+-------------------+\n",
      "\n"
     ]
    }
   ],
   "source": [
    "output.show()"
   ]
  },
  {
   "cell_type": "code",
   "execution_count": 43,
   "id": "61061955",
   "metadata": {},
   "outputs": [
    {
     "data": {
      "text/plain": [
       "pyspark.sql.dataframe.DataFrame"
      ]
     },
     "execution_count": 43,
     "metadata": {},
     "output_type": "execute_result"
    }
   ],
   "source": [
    "type(output)"
   ]
  },
  {
   "cell_type": "code",
   "execution_count": 44,
   "id": "19dfceb4",
   "metadata": {},
   "outputs": [
    {
     "data": {
      "text/plain": [
       "['Name', 'age', 'Experience', 'Salary', 'Independent Feature']"
      ]
     },
     "execution_count": 44,
     "metadata": {},
     "output_type": "execute_result"
    }
   ],
   "source": [
    "#NOW THE COLUMNS OF THE OUTPUT DATAFRAME\n",
    "output.columns"
   ]
  },
  {
   "cell_type": "code",
   "execution_count": 45,
   "id": "afdb6954",
   "metadata": {},
   "outputs": [],
   "source": [
    "#NOW SEPARATING THE DATA INTO INDEPENDENT AND DEPENDENT FEATURES\n",
    "\n",
    "#TRAINING SET ==> INDEPENDENT FEATURES ---> X; SALARY ---> Y\n",
    "\n",
    "training = output.select('Independent Feature','Salary')"
   ]
  },
  {
   "cell_type": "code",
   "execution_count": 46,
   "id": "10409489",
   "metadata": {},
   "outputs": [
    {
     "name": "stdout",
     "output_type": "stream",
     "text": [
      "+-------------------+------+\n",
      "|Independent Feature|Salary|\n",
      "+-------------------+------+\n",
      "|         [27.0,5.0]| 30000|\n",
      "|         [30.0,8.0]|250000|\n",
      "|         [29.0,4.0]| 20000|\n",
      "|         [24.0,3.0]|200000|\n",
      "|         [21.0,1.0]| 15000|\n",
      "|         [23.0,2.0]|180000|\n",
      "|         [26.0,7.0]| 90000|\n",
      "|         [23.0,5.0]| 50000|\n",
      "|         [46.0,8.0]|100000|\n",
      "+-------------------+------+\n",
      "\n"
     ]
    }
   ],
   "source": [
    "training.show()"
   ]
  },
  {
   "cell_type": "code",
   "execution_count": 47,
   "id": "de58bb78",
   "metadata": {},
   "outputs": [],
   "source": [
    "#APPLYING LINEAR REGRESSION \n",
    "from pyspark.ml.regression import LinearRegression\n",
    "\n",
    "#SPLITTING DATA INTO TRAIN AND TEST DATA\n",
    "#THE RATIO OF SPLIT IS TRAIN --> 75% & TEST --> 25%\n",
    "train_data, test_data = training.randomSplit([0.75,0.25])"
   ]
  },
  {
   "cell_type": "code",
   "execution_count": 48,
   "id": "a23999c5",
   "metadata": {},
   "outputs": [],
   "source": [
    "#APPLYING LINEAR REGRESSION \n",
    "\n",
    "regressor = LinearRegression(featuresCol=\"Independent Feature\",labelCol=\"Salary\")\n",
    "regressor = regressor.fit(train_data)"
   ]
  },
  {
   "cell_type": "code",
   "execution_count": 49,
   "id": "8eb3fc84",
   "metadata": {},
   "outputs": [
    {
     "data": {
      "text/plain": [
       "DenseVector([-1023.969, 8912.5837])"
      ]
     },
     "execution_count": 49,
     "metadata": {},
     "output_type": "execute_result"
    }
   ],
   "source": [
    "regressor.coefficients"
   ]
  },
  {
   "cell_type": "code",
   "execution_count": 50,
   "id": "24ae66ab",
   "metadata": {},
   "outputs": [
    {
     "data": {
      "text/plain": [
       "99085.30137469135"
      ]
     },
     "execution_count": 50,
     "metadata": {},
     "output_type": "execute_result"
    }
   ],
   "source": [
    "regressor.intercept"
   ]
  },
  {
   "cell_type": "code",
   "execution_count": 51,
   "id": "6430a952",
   "metadata": {},
   "outputs": [],
   "source": [
    "#Prediction \n",
    "\n",
    "pred = regressor.evaluate(test_data)"
   ]
  },
  {
   "cell_type": "code",
   "execution_count": 52,
   "id": "860eb709",
   "metadata": {},
   "outputs": [
    {
     "name": "stdout",
     "output_type": "stream",
     "text": [
      "+-------------------+------+------------------+\n",
      "|Independent Feature|Salary|        prediction|\n",
      "+-------------------+------+------------------+\n",
      "|         [29.0,4.0]| 20000|105040.53577722954|\n",
      "+-------------------+------+------------------+\n",
      "\n"
     ]
    }
   ],
   "source": [
    "pred.predictions.show()"
   ]
  }
 ],
 "metadata": {
  "kernelspec": {
   "display_name": "Python 3 (ipykernel)",
   "language": "python",
   "name": "python3"
  },
  "language_info": {
   "codemirror_mode": {
    "name": "ipython",
    "version": 3
   },
   "file_extension": ".py",
   "mimetype": "text/x-python",
   "name": "python",
   "nbconvert_exporter": "python",
   "pygments_lexer": "ipython3",
   "version": "3.10.9"
  }
 },
 "nbformat": 4,
 "nbformat_minor": 5
}
