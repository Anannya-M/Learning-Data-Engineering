{
 "cells": [
  {
   "cell_type": "code",
   "execution_count": 1,
   "id": "74f4bcf5",
   "metadata": {},
   "outputs": [
    {
     "name": "stdout",
     "output_type": "stream",
     "text": [
      "Requirement already satisfied: pyspark in c:\\users\\anann\\anaconda3\\lib\\site-packages (3.5.0)\n",
      "Requirement already satisfied: py4j==0.10.9.7 in c:\\users\\anann\\anaconda3\\lib\\site-packages (from pyspark) (0.10.9.7)\n"
     ]
    },
    {
     "name": "stderr",
     "output_type": "stream",
     "text": [
      "\n",
      "[notice] A new release of pip is available: 23.2.1 -> 24.0\n",
      "[notice] To update, run: python.exe -m pip install --upgrade pip\n"
     ]
    }
   ],
   "source": [
    "!pip install pyspark"
   ]
  },
  {
   "cell_type": "code",
   "execution_count": 3,
   "id": "69d4bb2e",
   "metadata": {},
   "outputs": [],
   "source": [
    "import pyspark\n",
    "import pandas as pd"
   ]
  },
  {
   "cell_type": "code",
   "execution_count": 5,
   "id": "736d2249",
   "metadata": {},
   "outputs": [
    {
     "data": {
      "text/html": [
       "<div>\n",
       "<style scoped>\n",
       "    .dataframe tbody tr th:only-of-type {\n",
       "        vertical-align: middle;\n",
       "    }\n",
       "\n",
       "    .dataframe tbody tr th {\n",
       "        vertical-align: top;\n",
       "    }\n",
       "\n",
       "    .dataframe thead th {\n",
       "        text-align: right;\n",
       "    }\n",
       "</style>\n",
       "<table border=\"1\" class=\"dataframe\">\n",
       "  <thead>\n",
       "    <tr style=\"text-align: right;\">\n",
       "      <th></th>\n",
       "      <th>Review #</th>\n",
       "      <th>Brand</th>\n",
       "      <th>Variety</th>\n",
       "      <th>Style</th>\n",
       "      <th>Country</th>\n",
       "      <th>Stars</th>\n",
       "      <th>Top Ten</th>\n",
       "    </tr>\n",
       "  </thead>\n",
       "  <tbody>\n",
       "    <tr>\n",
       "      <th>0</th>\n",
       "      <td>2580</td>\n",
       "      <td>New Touch</td>\n",
       "      <td>T's Restaurant Tantanmen</td>\n",
       "      <td>Cup</td>\n",
       "      <td>Japan</td>\n",
       "      <td>3.75</td>\n",
       "      <td>NaN</td>\n",
       "    </tr>\n",
       "    <tr>\n",
       "      <th>1</th>\n",
       "      <td>2579</td>\n",
       "      <td>Just Way</td>\n",
       "      <td>Noodles Spicy Hot Sesame Spicy Hot Sesame Guan...</td>\n",
       "      <td>Pack</td>\n",
       "      <td>Taiwan</td>\n",
       "      <td>1</td>\n",
       "      <td>NaN</td>\n",
       "    </tr>\n",
       "    <tr>\n",
       "      <th>2</th>\n",
       "      <td>2578</td>\n",
       "      <td>Nissin</td>\n",
       "      <td>Cup Noodles Chicken Vegetable</td>\n",
       "      <td>Cup</td>\n",
       "      <td>USA</td>\n",
       "      <td>2.25</td>\n",
       "      <td>NaN</td>\n",
       "    </tr>\n",
       "    <tr>\n",
       "      <th>3</th>\n",
       "      <td>2577</td>\n",
       "      <td>Wei Lih</td>\n",
       "      <td>GGE Ramen Snack Tomato Flavor</td>\n",
       "      <td>Pack</td>\n",
       "      <td>Taiwan</td>\n",
       "      <td>2.75</td>\n",
       "      <td>NaN</td>\n",
       "    </tr>\n",
       "    <tr>\n",
       "      <th>4</th>\n",
       "      <td>2576</td>\n",
       "      <td>Ching's Secret</td>\n",
       "      <td>Singapore Curry</td>\n",
       "      <td>Pack</td>\n",
       "      <td>India</td>\n",
       "      <td>3.75</td>\n",
       "      <td>NaN</td>\n",
       "    </tr>\n",
       "  </tbody>\n",
       "</table>\n",
       "</div>"
      ],
      "text/plain": [
       "   Review #           Brand  \\\n",
       "0      2580       New Touch   \n",
       "1      2579        Just Way   \n",
       "2      2578          Nissin   \n",
       "3      2577         Wei Lih   \n",
       "4      2576  Ching's Secret   \n",
       "\n",
       "                                             Variety Style Country Stars  \\\n",
       "0                          T's Restaurant Tantanmen    Cup   Japan  3.75   \n",
       "1  Noodles Spicy Hot Sesame Spicy Hot Sesame Guan...  Pack  Taiwan     1   \n",
       "2                      Cup Noodles Chicken Vegetable   Cup     USA  2.25   \n",
       "3                      GGE Ramen Snack Tomato Flavor  Pack  Taiwan  2.75   \n",
       "4                                    Singapore Curry  Pack   India  3.75   \n",
       "\n",
       "  Top Ten  \n",
       "0     NaN  \n",
       "1     NaN  \n",
       "2     NaN  \n",
       "3     NaN  \n",
       "4     NaN  "
      ]
     },
     "execution_count": 5,
     "metadata": {},
     "output_type": "execute_result"
    }
   ],
   "source": [
    "#LOADING THE DATASET \n",
    "data = pd.read_csv(\"D:\\\\Datasets\\\\ramen-ratings.csv\")\n",
    "data.head()"
   ]
  },
  {
   "cell_type": "code",
   "execution_count": 6,
   "id": "1c03fd4c",
   "metadata": {},
   "outputs": [],
   "source": [
    "#CREATING A SPARKSESSION\n",
    "\n",
    "from pyspark.sql import SparkSession\n",
    "\n",
    "spark = SparkSession.builder.appName('PySpark Practice').getOrCreate()"
   ]
  },
  {
   "cell_type": "code",
   "execution_count": 7,
   "id": "a3b88091",
   "metadata": {},
   "outputs": [
    {
     "data": {
      "text/html": [
       "\n",
       "            <div>\n",
       "                <p><b>SparkSession - in-memory</b></p>\n",
       "                \n",
       "        <div>\n",
       "            <p><b>SparkContext</b></p>\n",
       "\n",
       "            <p><a href=\"http://LAPTOP-6AVN8HIF:4040\">Spark UI</a></p>\n",
       "\n",
       "            <dl>\n",
       "              <dt>Version</dt>\n",
       "                <dd><code>v3.5.0</code></dd>\n",
       "              <dt>Master</dt>\n",
       "                <dd><code>local[*]</code></dd>\n",
       "              <dt>AppName</dt>\n",
       "                <dd><code>PySpark Practice</code></dd>\n",
       "            </dl>\n",
       "        </div>\n",
       "        \n",
       "            </div>\n",
       "        "
      ],
      "text/plain": [
       "<pyspark.sql.session.SparkSession at 0x1c468a46b60>"
      ]
     },
     "execution_count": 7,
     "metadata": {},
     "output_type": "execute_result"
    }
   ],
   "source": [
    "spark"
   ]
  },
  {
   "cell_type": "code",
   "execution_count": 9,
   "id": "4b968f79",
   "metadata": {},
   "outputs": [],
   "source": [
    "# READING OUR CSV FILE WRT PYSPARK\n",
    "\n",
    "spark_df = spark.read.csv(\"D:\\\\Datasets\\\\ramen-ratings.csv\")"
   ]
  },
  {
   "cell_type": "code",
   "execution_count": 11,
   "id": "48759f8b",
   "metadata": {},
   "outputs": [
    {
     "name": "stdout",
     "output_type": "stream",
     "text": [
      "+--------+--------------+--------------------+-----+-----------+-----+-------+\n",
      "|     _c0|           _c1|                 _c2|  _c3|        _c4|  _c5|    _c6|\n",
      "+--------+--------------+--------------------+-----+-----------+-----+-------+\n",
      "|Review #|         Brand|             Variety|Style|    Country|Stars|Top Ten|\n",
      "|    2580|     New Touch|T's Restaurant Ta...|  Cup|      Japan| 3.75|   NULL|\n",
      "|    2579|      Just Way|Noodles Spicy Hot...| Pack|     Taiwan|    1|   NULL|\n",
      "|    2578|        Nissin|Cup Noodles Chick...|  Cup|        USA| 2.25|   NULL|\n",
      "|    2577|       Wei Lih|GGE Ramen Snack T...| Pack|     Taiwan| 2.75|   NULL|\n",
      "|    2576|Ching's Secret|     Singapore Curry| Pack|      India| 3.75|   NULL|\n",
      "|    2575| Samyang Foods|Kimchi song Song ...| Pack|South Korea| 4.75|   NULL|\n",
      "|    2574|       Acecook|Spice Deli Tantan...|  Cup|      Japan|    4|   NULL|\n",
      "|    2573|   Ikeda Shoku|Nabeyaki Kitsune ...| Tray|      Japan| 3.75|   NULL|\n",
      "|    2572|    Ripe'n'Dry|Hokkaido Soy Sauc...| Pack|      Japan| 0.25|   NULL|\n",
      "|    2571|          KOKA|The Original Spic...| Pack|  Singapore|  2.5|   NULL|\n",
      "|    2570|   Tao Kae Noi|Creamy tom Yum Ku...| Pack|   Thailand|    5|   NULL|\n",
      "|    2569|      Yamachan|Yokohama Tonkotsu...| Pack|        USA|    5|   NULL|\n",
      "|    2568|      Nongshim|Mr. Bibim Stir-Fr...| Pack|South Korea| 4.25|   NULL|\n",
      "|    2567|        Nissin|Deka Buto Kimchi ...| Bowl|      Japan|  4.5|   NULL|\n",
      "|    2566|        Nissin|Demae Ramen Bar N...| Pack|  Hong Kong|    5|   NULL|\n",
      "|    2565|          KOKA|Mushroom Flavour ...|  Cup|  Singapore|  3.5|   NULL|\n",
      "|    2564|          TRDP|Mario Masala Noodles| Pack|      India| 3.75|   NULL|\n",
      "|    2563|      Yamachan|   Tokyo Shoyu Ramen| Pack|        USA|    5|   NULL|\n",
      "|    2562|      Binh Tay|          Mi Hai Cua| Pack|    Vietnam|    4|   NULL|\n",
      "+--------+--------------+--------------------+-----+-----------+-----+-------+\n",
      "only showing top 20 rows\n",
      "\n"
     ]
    }
   ],
   "source": [
    "spark_df.show()"
   ]
  },
  {
   "cell_type": "code",
   "execution_count": 12,
   "id": "c07502fc",
   "metadata": {},
   "outputs": [],
   "source": [
    "#To avoid getting these '_c0' as headers\n",
    "spark_df = spark.read.option('header','true').csv(\"D:\\\\Datasets\\\\ramen-ratings.csv\")"
   ]
  },
  {
   "cell_type": "code",
   "execution_count": 13,
   "id": "fe8172e8",
   "metadata": {},
   "outputs": [
    {
     "name": "stdout",
     "output_type": "stream",
     "text": [
      "+--------+--------------+--------------------+-----+-----------+-----+-------+\n",
      "|Review #|         Brand|             Variety|Style|    Country|Stars|Top Ten|\n",
      "+--------+--------------+--------------------+-----+-----------+-----+-------+\n",
      "|    2580|     New Touch|T's Restaurant Ta...|  Cup|      Japan| 3.75|   NULL|\n",
      "|    2579|      Just Way|Noodles Spicy Hot...| Pack|     Taiwan|    1|   NULL|\n",
      "|    2578|        Nissin|Cup Noodles Chick...|  Cup|        USA| 2.25|   NULL|\n",
      "|    2577|       Wei Lih|GGE Ramen Snack T...| Pack|     Taiwan| 2.75|   NULL|\n",
      "|    2576|Ching's Secret|     Singapore Curry| Pack|      India| 3.75|   NULL|\n",
      "|    2575| Samyang Foods|Kimchi song Song ...| Pack|South Korea| 4.75|   NULL|\n",
      "|    2574|       Acecook|Spice Deli Tantan...|  Cup|      Japan|    4|   NULL|\n",
      "|    2573|   Ikeda Shoku|Nabeyaki Kitsune ...| Tray|      Japan| 3.75|   NULL|\n",
      "|    2572|    Ripe'n'Dry|Hokkaido Soy Sauc...| Pack|      Japan| 0.25|   NULL|\n",
      "|    2571|          KOKA|The Original Spic...| Pack|  Singapore|  2.5|   NULL|\n",
      "|    2570|   Tao Kae Noi|Creamy tom Yum Ku...| Pack|   Thailand|    5|   NULL|\n",
      "|    2569|      Yamachan|Yokohama Tonkotsu...| Pack|        USA|    5|   NULL|\n",
      "|    2568|      Nongshim|Mr. Bibim Stir-Fr...| Pack|South Korea| 4.25|   NULL|\n",
      "|    2567|        Nissin|Deka Buto Kimchi ...| Bowl|      Japan|  4.5|   NULL|\n",
      "|    2566|        Nissin|Demae Ramen Bar N...| Pack|  Hong Kong|    5|   NULL|\n",
      "|    2565|          KOKA|Mushroom Flavour ...|  Cup|  Singapore|  3.5|   NULL|\n",
      "|    2564|          TRDP|Mario Masala Noodles| Pack|      India| 3.75|   NULL|\n",
      "|    2563|      Yamachan|   Tokyo Shoyu Ramen| Pack|        USA|    5|   NULL|\n",
      "|    2562|      Binh Tay|          Mi Hai Cua| Pack|    Vietnam|    4|   NULL|\n",
      "|    2561|         Paldo|     Premium Gomtang| Pack|South Korea|    4|   NULL|\n",
      "+--------+--------------+--------------------+-----+-----------+-----+-------+\n",
      "only showing top 20 rows\n",
      "\n"
     ]
    }
   ],
   "source": [
    "spark_df.show()"
   ]
  },
  {
   "cell_type": "code",
   "execution_count": 14,
   "id": "8a87fb5d",
   "metadata": {},
   "outputs": [
    {
     "data": {
      "text/plain": [
       "pyspark.sql.dataframe.DataFrame"
      ]
     },
     "execution_count": 14,
     "metadata": {},
     "output_type": "execute_result"
    }
   ],
   "source": [
    "#Type of Spark_df \n",
    "type(spark_df)"
   ]
  },
  {
   "cell_type": "code",
   "execution_count": 15,
   "id": "fa45b22e",
   "metadata": {},
   "outputs": [
    {
     "name": "stdout",
     "output_type": "stream",
     "text": [
      "root\n",
      " |-- Review #: string (nullable = true)\n",
      " |-- Brand: string (nullable = true)\n",
      " |-- Variety: string (nullable = true)\n",
      " |-- Style: string (nullable = true)\n",
      " |-- Country: string (nullable = true)\n",
      " |-- Stars: string (nullable = true)\n",
      " |-- Top Ten: string (nullable = true)\n",
      "\n"
     ]
    }
   ],
   "source": [
    "#DETAILED SCHEMA DESCRIPTION OF THE DATAFRAME\n",
    "spark_df.printSchema()"
   ]
  },
  {
   "cell_type": "code",
   "execution_count": 19,
   "id": "c61ec4a1",
   "metadata": {},
   "outputs": [
    {
     "name": "stdout",
     "output_type": "stream",
     "text": [
      "root\n",
      " |-- Review #: string (nullable = true)\n",
      " |-- Brand: string (nullable = true)\n",
      " |-- Variety: string (nullable = true)\n",
      " |-- Style: string (nullable = true)\n",
      " |-- Country: string (nullable = true)\n",
      " |-- Stars: string (nullable = true)\n",
      " |-- Top Ten: string (nullable = true)\n",
      "\n"
     ]
    }
   ],
   "source": [
    "#TO CORRECT THE DATA TYPE OF ALL THE FIELDS/COLUMNS WHICH ARE MENTIONED AS STRING \n",
    "\n",
    "spark_df = spark.read.option('header','true').csv(\"D:\\\\Datasets\\\\ramen-ratings.csv\",inferSchema=True)\n",
    "spark_df.printSchema()"
   ]
  },
  {
   "cell_type": "code",
   "execution_count": 21,
   "id": "eb1c2365",
   "metadata": {},
   "outputs": [
    {
     "name": "stdout",
     "output_type": "stream",
     "text": [
      "+--------------+\n",
      "|         Brand|\n",
      "+--------------+\n",
      "|     New Touch|\n",
      "|      Just Way|\n",
      "|        Nissin|\n",
      "|       Wei Lih|\n",
      "|Ching's Secret|\n",
      "| Samyang Foods|\n",
      "|       Acecook|\n",
      "|   Ikeda Shoku|\n",
      "|    Ripe'n'Dry|\n",
      "|          KOKA|\n",
      "|   Tao Kae Noi|\n",
      "|      Yamachan|\n",
      "|      Nongshim|\n",
      "|        Nissin|\n",
      "|        Nissin|\n",
      "|          KOKA|\n",
      "|          TRDP|\n",
      "|      Yamachan|\n",
      "|      Binh Tay|\n",
      "|         Paldo|\n",
      "+--------------+\n",
      "only showing top 20 rows\n",
      "\n"
     ]
    }
   ],
   "source": [
    "#TO SELECT AND DISPLAY A PARTICULAR COLUMN\n",
    "\n",
    "spark_df.select('Brand').show()"
   ]
  },
  {
   "cell_type": "code",
   "execution_count": 22,
   "id": "0a309020",
   "metadata": {},
   "outputs": [
    {
     "data": {
      "text/plain": [
       "[Row(Review #='2580', Brand='New Touch', Variety=\"T's Restaurant Tantanmen \", Style='Cup', Country='Japan', Stars='3.75', Top Ten=None),\n",
       " Row(Review #='2579', Brand='Just Way', Variety='Noodles Spicy Hot Sesame Spicy Hot Sesame Guan-miao Noodles', Style='Pack', Country='Taiwan', Stars='1.00', Top Ten=None),\n",
       " Row(Review #='2578', Brand='Nissin', Variety='Cup Noodles Chicken Vegetable', Style='Cup', Country='USA', Stars='2.25', Top Ten=None)]"
      ]
     },
     "execution_count": 22,
     "metadata": {},
     "output_type": "execute_result"
    }
   ],
   "source": [
    "#IN ORDER SHOW LIMITED VALUES \n",
    "spark_df.head(3)"
   ]
  },
  {
   "cell_type": "code",
   "execution_count": 24,
   "id": "5b3f7c4b",
   "metadata": {},
   "outputs": [
    {
     "name": "stdout",
     "output_type": "stream",
     "text": [
      "+-----+-----+\n",
      "|Style|Stars|\n",
      "+-----+-----+\n",
      "|  Cup| 3.75|\n",
      "| Pack| 1.00|\n",
      "|  Cup| 2.25|\n",
      "| Pack| 2.75|\n",
      "| Pack| 3.75|\n",
      "| Pack| 4.75|\n",
      "|  Cup| 4.00|\n",
      "| Tray| 3.75|\n",
      "| Pack| 0.25|\n",
      "| Pack| 2.50|\n",
      "| Pack| 5.00|\n",
      "| Pack| 5.00|\n",
      "| Pack| 4.25|\n",
      "| Bowl| 4.50|\n",
      "| Pack| 5.00|\n",
      "|  Cup| 3.50|\n",
      "| Pack| 3.75|\n",
      "| Pack| 5.00|\n",
      "| Pack| 4.00|\n",
      "| Pack| 4.00|\n",
      "+-----+-----+\n",
      "only showing top 20 rows\n",
      "\n"
     ]
    }
   ],
   "source": [
    "#TO PICK OUT MORE THAN ONE COLUMN TO DISPLAY\n",
    "spark_df.select(['Style','Stars']).show()"
   ]
  },
  {
   "cell_type": "code",
   "execution_count": 25,
   "id": "84aac1b1",
   "metadata": {},
   "outputs": [
    {
     "data": {
      "text/plain": [
       "DataFrame[summary: string, Review #: string, Brand: string, Variety: string, Style: string, Country: string, Stars: string, Top Ten: string]"
      ]
     },
     "execution_count": 25,
     "metadata": {},
     "output_type": "execute_result"
    }
   ],
   "source": [
    "#DESCRIBE FUNCTION SIMILAR TO PANDAS IN SPARK\n",
    "spark_df.describe()"
   ]
  },
  {
   "cell_type": "code",
   "execution_count": 26,
   "id": "77f155d3",
   "metadata": {},
   "outputs": [
    {
     "name": "stdout",
     "output_type": "stream",
     "text": [
      "+-------+-----------------+--------------+------------------------+-----+---------+------------------+-------+\n",
      "|summary|         Review #|         Brand|                 Variety|Style|  Country|             Stars|Top Ten|\n",
      "+-------+-----------------+--------------+------------------------+-----+---------+------------------+-------+\n",
      "|  count|             2584|          2580|                    2580| 2578|     2580|              2580|     41|\n",
      "|   mean|           1290.5|          NULL|                    NULL| NULL|     NULL| 3.654683740783857|   NULL|\n",
      "| stddev|744.9261708384261|          NULL|                    NULL| NULL|     NULL|1.0153284752984306|   NULL|\n",
      "|    min|                \"|1 To 3 Noodles|    \"\"\"A\"\" Series Art...|  Bar|Australia|              0.00|      \"|\n",
      "|    max|              999|       iNoodle|三養라면 (Samyang Ram...| Tray|  Vietnam|           Unrated|2016 #9|\n",
      "+-------+-----------------+--------------+------------------------+-----+---------+------------------+-------+\n",
      "\n"
     ]
    }
   ],
   "source": [
    "spark_df.describe().show()"
   ]
  },
  {
   "cell_type": "code",
   "execution_count": 29,
   "id": "ed401d2f",
   "metadata": {},
   "outputs": [],
   "source": [
    "#ADDING COLUMNS IN SPARK DATAFRAME USING WITHCOLUMN()\n",
    "spark_df = spark_df.withColumn('Experience',spark_df['Review #']/2)"
   ]
  },
  {
   "cell_type": "code",
   "execution_count": 30,
   "id": "0dce1c2a",
   "metadata": {},
   "outputs": [
    {
     "name": "stdout",
     "output_type": "stream",
     "text": [
      "+--------+--------------+--------------------+-----+-----------+-----+-------+----------+\n",
      "|Review #|         Brand|             Variety|Style|    Country|Stars|Top Ten|Experience|\n",
      "+--------+--------------+--------------------+-----+-----------+-----+-------+----------+\n",
      "|    2580|     New Touch|T's Restaurant Ta...|  Cup|      Japan| 3.75|   NULL|    1290.0|\n",
      "|    2579|      Just Way|Noodles Spicy Hot...| Pack|     Taiwan| 1.00|   NULL|    1289.5|\n",
      "|    2578|        Nissin|Cup Noodles Chick...|  Cup|        USA| 2.25|   NULL|    1289.0|\n",
      "|    2577|       Wei Lih|GGE Ramen Snack T...| Pack|     Taiwan| 2.75|   NULL|    1288.5|\n",
      "|    2576|Ching's Secret|     Singapore Curry| Pack|      India| 3.75|   NULL|    1288.0|\n",
      "|    2575| Samyang Foods|Kimchi song Song ...| Pack|South Korea| 4.75|   NULL|    1287.5|\n",
      "|    2574|       Acecook|Spice Deli Tantan...|  Cup|      Japan| 4.00|   NULL|    1287.0|\n",
      "|    2573|   Ikeda Shoku|Nabeyaki Kitsune ...| Tray|      Japan| 3.75|   NULL|    1286.5|\n",
      "|    2572|    Ripe'n'Dry|Hokkaido Soy Sauc...| Pack|      Japan| 0.25|   NULL|    1286.0|\n",
      "|    2571|          KOKA|The Original Spic...| Pack|  Singapore| 2.50|   NULL|    1285.5|\n",
      "|    2570|   Tao Kae Noi|Creamy tom Yum Ku...| Pack|   Thailand| 5.00|   NULL|    1285.0|\n",
      "|    2569|      Yamachan|Yokohama Tonkotsu...| Pack|        USA| 5.00|   NULL|    1284.5|\n",
      "|    2568|      Nongshim|Mr. Bibim Stir-Fr...| Pack|South Korea| 4.25|   NULL|    1284.0|\n",
      "|    2567|        Nissin|Deka Buto Kimchi ...| Bowl|      Japan| 4.50|   NULL|    1283.5|\n",
      "|    2566|        Nissin|Demae Ramen Bar N...| Pack|  Hong Kong| 5.00|   NULL|    1283.0|\n",
      "|    2565|          KOKA|Mushroom Flavour ...|  Cup|  Singapore| 3.50|   NULL|    1282.5|\n",
      "|    2564|          TRDP|Mario Masala Noodles| Pack|      India| 3.75|   NULL|    1282.0|\n",
      "|    2563|      Yamachan|   Tokyo Shoyu Ramen| Pack|        USA| 5.00|   NULL|    1281.5|\n",
      "|    2562|      Binh Tay|          Mi Hai Cua| Pack|    Vietnam| 4.00|   NULL|    1281.0|\n",
      "|    2561|         Paldo|     Premium Gomtang| Pack|South Korea| 4.00|   NULL|    1280.5|\n",
      "+--------+--------------+--------------------+-----+-----------+-----+-------+----------+\n",
      "only showing top 20 rows\n",
      "\n"
     ]
    }
   ],
   "source": [
    "spark_df.show()"
   ]
  },
  {
   "cell_type": "code",
   "execution_count": 31,
   "id": "a8f734b7",
   "metadata": {},
   "outputs": [],
   "source": [
    "#DROPPING THE COLUMNS\n",
    "spark_df = spark_df.drop('Experience','Top Ten')\n"
   ]
  },
  {
   "cell_type": "code",
   "execution_count": 32,
   "id": "b5d53bcf",
   "metadata": {},
   "outputs": [
    {
     "name": "stdout",
     "output_type": "stream",
     "text": [
      "+--------+--------------+--------------------+-----+-----------+-----+\n",
      "|Review #|         Brand|             Variety|Style|    Country|Stars|\n",
      "+--------+--------------+--------------------+-----+-----------+-----+\n",
      "|    2580|     New Touch|T's Restaurant Ta...|  Cup|      Japan| 3.75|\n",
      "|    2579|      Just Way|Noodles Spicy Hot...| Pack|     Taiwan| 1.00|\n",
      "|    2578|        Nissin|Cup Noodles Chick...|  Cup|        USA| 2.25|\n",
      "|    2577|       Wei Lih|GGE Ramen Snack T...| Pack|     Taiwan| 2.75|\n",
      "|    2576|Ching's Secret|     Singapore Curry| Pack|      India| 3.75|\n",
      "|    2575| Samyang Foods|Kimchi song Song ...| Pack|South Korea| 4.75|\n",
      "|    2574|       Acecook|Spice Deli Tantan...|  Cup|      Japan| 4.00|\n",
      "|    2573|   Ikeda Shoku|Nabeyaki Kitsune ...| Tray|      Japan| 3.75|\n",
      "|    2572|    Ripe'n'Dry|Hokkaido Soy Sauc...| Pack|      Japan| 0.25|\n",
      "|    2571|          KOKA|The Original Spic...| Pack|  Singapore| 2.50|\n",
      "|    2570|   Tao Kae Noi|Creamy tom Yum Ku...| Pack|   Thailand| 5.00|\n",
      "|    2569|      Yamachan|Yokohama Tonkotsu...| Pack|        USA| 5.00|\n",
      "|    2568|      Nongshim|Mr. Bibim Stir-Fr...| Pack|South Korea| 4.25|\n",
      "|    2567|        Nissin|Deka Buto Kimchi ...| Bowl|      Japan| 4.50|\n",
      "|    2566|        Nissin|Demae Ramen Bar N...| Pack|  Hong Kong| 5.00|\n",
      "|    2565|          KOKA|Mushroom Flavour ...|  Cup|  Singapore| 3.50|\n",
      "|    2564|          TRDP|Mario Masala Noodles| Pack|      India| 3.75|\n",
      "|    2563|      Yamachan|   Tokyo Shoyu Ramen| Pack|        USA| 5.00|\n",
      "|    2562|      Binh Tay|          Mi Hai Cua| Pack|    Vietnam| 4.00|\n",
      "|    2561|         Paldo|     Premium Gomtang| Pack|South Korea| 4.00|\n",
      "+--------+--------------+--------------------+-----+-----------+-----+\n",
      "only showing top 20 rows\n",
      "\n"
     ]
    }
   ],
   "source": [
    "spark_df.show()"
   ]
  },
  {
   "cell_type": "code",
   "execution_count": 36,
   "id": "4d469506",
   "metadata": {},
   "outputs": [],
   "source": [
    "#RENAMING THE COLUMNS\n",
    "\n",
    "#FOR A SINGLE COLUMN RENAMING\n",
    "#spark_df.withColumnRenamed('Review #','Review ID')\n",
    "\n",
    "#FOR MULTIPLE COLUMN RENAMING \n",
    "spark_df = spark_df.withColumnsRenamed({'Review #':'Review ID','Country':'Countries'})"
   ]
  },
  {
   "cell_type": "code",
   "execution_count": 37,
   "id": "6b47e4fa",
   "metadata": {},
   "outputs": [
    {
     "name": "stdout",
     "output_type": "stream",
     "text": [
      "+---------+--------------+--------------------+-----+-----------+-----+\n",
      "|Review ID|         Brand|             Variety|Style|  Countries|Stars|\n",
      "+---------+--------------+--------------------+-----+-----------+-----+\n",
      "|     2580|     New Touch|T's Restaurant Ta...|  Cup|      Japan| 3.75|\n",
      "|     2579|      Just Way|Noodles Spicy Hot...| Pack|     Taiwan| 1.00|\n",
      "|     2578|        Nissin|Cup Noodles Chick...|  Cup|        USA| 2.25|\n",
      "|     2577|       Wei Lih|GGE Ramen Snack T...| Pack|     Taiwan| 2.75|\n",
      "|     2576|Ching's Secret|     Singapore Curry| Pack|      India| 3.75|\n",
      "|     2575| Samyang Foods|Kimchi song Song ...| Pack|South Korea| 4.75|\n",
      "|     2574|       Acecook|Spice Deli Tantan...|  Cup|      Japan| 4.00|\n",
      "|     2573|   Ikeda Shoku|Nabeyaki Kitsune ...| Tray|      Japan| 3.75|\n",
      "|     2572|    Ripe'n'Dry|Hokkaido Soy Sauc...| Pack|      Japan| 0.25|\n",
      "|     2571|          KOKA|The Original Spic...| Pack|  Singapore| 2.50|\n",
      "|     2570|   Tao Kae Noi|Creamy tom Yum Ku...| Pack|   Thailand| 5.00|\n",
      "|     2569|      Yamachan|Yokohama Tonkotsu...| Pack|        USA| 5.00|\n",
      "|     2568|      Nongshim|Mr. Bibim Stir-Fr...| Pack|South Korea| 4.25|\n",
      "|     2567|        Nissin|Deka Buto Kimchi ...| Bowl|      Japan| 4.50|\n",
      "|     2566|        Nissin|Demae Ramen Bar N...| Pack|  Hong Kong| 5.00|\n",
      "|     2565|          KOKA|Mushroom Flavour ...|  Cup|  Singapore| 3.50|\n",
      "|     2564|          TRDP|Mario Masala Noodles| Pack|      India| 3.75|\n",
      "|     2563|      Yamachan|   Tokyo Shoyu Ramen| Pack|        USA| 5.00|\n",
      "|     2562|      Binh Tay|          Mi Hai Cua| Pack|    Vietnam| 4.00|\n",
      "|     2561|         Paldo|     Premium Gomtang| Pack|South Korea| 4.00|\n",
      "+---------+--------------+--------------------+-----+-----------+-----+\n",
      "only showing top 20 rows\n",
      "\n"
     ]
    }
   ],
   "source": [
    "spark_df.show()"
   ]
  },
  {
   "cell_type": "code",
   "execution_count": null,
   "id": "eaff5487",
   "metadata": {},
   "outputs": [],
   "source": [
    "#HANDLING MISSING DATA\n",
    "#spark_df.na.drop(how='all'/'any', thresh, subset)\n",
    "\n",
    "#Threshold=2 ==> Atleast 2 non-null values should be present in rows;less than those rows will be dropped \n",
    "#Subset = [<column_name>] ==> Any null value in that column; that whole row will be dropped"
   ]
  },
  {
   "cell_type": "code",
   "execution_count": 40,
   "id": "a7a3c2d3",
   "metadata": {},
   "outputs": [
    {
     "name": "stdout",
     "output_type": "stream",
     "text": [
      "+---------+----------------+--------------------+-----+-----------+-----+\n",
      "|Review ID|           Brand|             Variety|Style|  Countries|Stars|\n",
      "+---------+----------------+--------------------+-----+-----------+-----+\n",
      "|     2572|      Ripe'n'Dry|Hokkaido Soy Sauc...| Pack|      Japan| 0.25|\n",
      "|     2527|   Uni-President|     Mushroom Flavor| Pack|    Vietnam| 0.00|\n",
      "|     2503|Sichuan Guangyou|Sweet Potato Inst...| Bowl|      China| 0.00|\n",
      "|     2426| Dr. McDougall's|Vegan Pad Thai No...|  Cup|        USA| 0.00|\n",
      "|     2406|Sichuan Guangyou|Sweet Potato Inst...| Pack|      China| 0.25|\n",
      "|     2382|        Nongshim|Seaweed Instant N...|  Cup|South Korea| 0.50|\n",
      "|     2287|     Master Kong|Artificial Abalon...| Pack|      China| 0.00|\n",
      "|     2208|          Roland|Ramen Japanese St...| Pack|        USA| 0.00|\n",
      "|     2103|          Roland|Ramen Japanese St...| Pack|        USA| 0.00|\n",
      "|     2056|            Koyo|Garlic Pepper Red...| Pack|        USA| 0.00|\n",
      "|     2023|    Urban Noodle|Authentic Street ...|  Cup|         UK| 0.00|\n",
      "|     2017|   Samyang Foods|Honey & Cheese Bi...| Bowl|South Korea| 0.00|\n",
      "|     1956|        Maruchan|Spicy Tomato Sals...|  Cup|      Japan| 0.00|\n",
      "|     1930|        Koh Thai|Island Of Flavour...| Pack|Netherlands| 0.25|\n",
      "|     1923|         Conimex|Oriental Noodles ...|  Cup|Netherlands| 0.50|\n",
      "|     1920|          Itsuki|Ramen Tonkotudou ...| Pack|      Japan| 0.75|\n",
      "|     1917|        IbuRamen|Mi Goreng Bento N...| Tray|        USA| 0.25|\n",
      "|     1913|      Thai Smile|Mushroom Rice Noo...| Bowl|        USA| 0.00|\n",
      "|     1873|           Vedan|Wei Wei A Instant...| Bowl|     Taiwan| 0.00|\n",
      "|     1863|          Baijia|Broad Noodle Pick...| Pack|      China| 0.00|\n",
      "+---------+----------------+--------------------+-----+-----------+-----+\n",
      "only showing top 20 rows\n",
      "\n"
     ]
    }
   ],
   "source": [
    "#FILTERING THE  DATAFRAME\n",
    "\n",
    "spark_df.filter('Stars < 1.00').show()"
   ]
  },
  {
   "cell_type": "code",
   "execution_count": 41,
   "id": "6feacf4d",
   "metadata": {},
   "outputs": [
    {
     "name": "stdout",
     "output_type": "stream",
     "text": [
      "+----------------+-----------+\n",
      "|           Brand|  Countries|\n",
      "+----------------+-----------+\n",
      "|      Ripe'n'Dry|      Japan|\n",
      "|   Uni-President|    Vietnam|\n",
      "|Sichuan Guangyou|      China|\n",
      "| Dr. McDougall's|        USA|\n",
      "|Sichuan Guangyou|      China|\n",
      "|        Nongshim|South Korea|\n",
      "|     Master Kong|      China|\n",
      "|          Roland|        USA|\n",
      "|          Roland|        USA|\n",
      "|            Koyo|        USA|\n",
      "|    Urban Noodle|         UK|\n",
      "|   Samyang Foods|South Korea|\n",
      "|        Maruchan|      Japan|\n",
      "|        Koh Thai|Netherlands|\n",
      "|         Conimex|Netherlands|\n",
      "|          Itsuki|      Japan|\n",
      "|        IbuRamen|        USA|\n",
      "|      Thai Smile|        USA|\n",
      "|           Vedan|     Taiwan|\n",
      "|          Baijia|      China|\n",
      "+----------------+-----------+\n",
      "only showing top 20 rows\n",
      "\n"
     ]
    }
   ],
   "source": [
    "#SHOWING ONLY SPECIFIC COLUMNS PERTAINING TO THE FILTER\n",
    "spark_df.filter('Stars < 1.00').select(['Brand','Countries']).show()"
   ]
  },
  {
   "cell_type": "code",
   "execution_count": 46,
   "id": "f6739b5b",
   "metadata": {},
   "outputs": [
    {
     "name": "stdout",
     "output_type": "stream",
     "text": [
      "+---------+--------------+--------------------+-----+---------+-----+\n",
      "|Review ID|         Brand|             Variety|Style|Countries|Stars|\n",
      "+---------+--------------+--------------------+-----+---------+-----+\n",
      "|     2556|Ching's Secret|Hot Garlic Instan...| Pack|    India| 4.25|\n",
      "|     2373|        Nissin|Top Ramen Atta No...| Pack|    India| 4.50|\n",
      "|     2351|1 To 3 Noodles|      Chatpat Masala| Pack|    India| 4.00|\n",
      "|     2329|     Patanjali|Atta Noodles Jhat...| Pack|    India| 5.00|\n",
      "|     2304|         Maggi|2 Minute Noodles ...| Pack|    India| 5.00|\n",
      "|     2269|       Wai Wai|Instant Noodles V...| Pack|    India| 4.00|\n",
      "|     2224|       Wai Wai|X-Press Flavour O...| Pack|    India| 4.00|\n",
      "+---------+--------------+--------------------+-----+---------+-----+\n",
      "\n"
     ]
    }
   ],
   "source": [
    "#APPLYING MULTIPLE FILTER CONDITIONS\n",
    "#USING & FUNCTION\n",
    "\n",
    "spark_df.filter((spark_df['Stars'] >= 4.00) & (spark_df['Countries'] == 'India')).show()"
   ]
  },
  {
   "cell_type": "code",
   "execution_count": 48,
   "id": "c34ac077",
   "metadata": {},
   "outputs": [
    {
     "name": "stdout",
     "output_type": "stream",
     "text": [
      "+---------+----------------+--------------------+-----+-----------+-----+\n",
      "|Review ID|           Brand|             Variety|Style|  Countries|Stars|\n",
      "+---------+----------------+--------------------+-----+-----------+-----+\n",
      "|     2575|   Samyang Foods|Kimchi song Song ...| Pack|South Korea| 4.75|\n",
      "|     2574|         Acecook|Spice Deli Tantan...|  Cup|      Japan| 4.00|\n",
      "|     2570|     Tao Kae Noi|Creamy tom Yum Ku...| Pack|   Thailand| 5.00|\n",
      "|     2569|        Yamachan|Yokohama Tonkotsu...| Pack|        USA| 5.00|\n",
      "|     2568|        Nongshim|Mr. Bibim Stir-Fr...| Pack|South Korea| 4.25|\n",
      "|     2567|          Nissin|Deka Buto Kimchi ...| Bowl|      Japan| 4.50|\n",
      "|     2566|          Nissin|Demae Ramen Bar N...| Pack|  Hong Kong| 5.00|\n",
      "|     2563|        Yamachan|   Tokyo Shoyu Ramen| Pack|        USA| 5.00|\n",
      "|     2562|        Binh Tay|          Mi Hai Cua| Pack|    Vietnam| 4.00|\n",
      "|     2561|           Paldo|     Premium Gomtang| Pack|South Korea| 4.00|\n",
      "|     2560|          Nissin|Cup Noodles Laksa...|  Cup|  Hong Kong| 4.25|\n",
      "|     2559|Jackpot Teriyaki|          Beef Ramen| Pack|        USA| 5.00|\n",
      "|     2558|            KOKA|Creamy Soup With ...|  Cup|  Singapore| 5.00|\n",
      "|     2557|        Yamachan|  Sapporo Miso Ramen| Pack|        USA| 4.75|\n",
      "|     2556|  Ching's Secret|Hot Garlic Instan...| Pack|      India| 4.25|\n",
      "|     2555|   Samyang Foods|Song Song Kimchi ...| Bowl|South Korea| 4.25|\n",
      "|     2553|          Nissin|Hakata Ramen Nood...| Bowl|      Japan| 4.75|\n",
      "|     2552|         MyKuali|Penang White Curr...| Bowl|   Malaysia| 5.00|\n",
      "|     2551|            KOKA|Signature Tom Yum...| Pack|  Singapore| 4.00|\n",
      "|     2550|   Samyang Foods|    Paegaejang Ramen| Pack|South Korea| 5.00|\n",
      "+---------+----------------+--------------------+-----+-----------+-----+\n",
      "only showing top 20 rows\n",
      "\n"
     ]
    }
   ],
   "source": [
    "#USING '|' OR FUNCTION\n",
    "\n",
    "spark_df.filter((spark_df['Stars'] >= 4.00) | (spark_df['Brand'] == 'Maggi')).show()"
   ]
  },
  {
   "cell_type": "code",
   "execution_count": 51,
   "id": "74812646",
   "metadata": {},
   "outputs": [
    {
     "name": "stdout",
     "output_type": "stream",
     "text": [
      "+---------+-------------------+--------------------+-----+---------+-----+\n",
      "|Review ID|              Brand|             Variety|Style|Countries|Stars|\n",
      "+---------+-------------------+--------------------+-----+---------+-----+\n",
      "|     2576|     Ching's Secret|     Singapore Curry| Pack|    India| 3.75|\n",
      "|     2564|               TRDP|Mario Masala Noodles| Pack|    India| 3.75|\n",
      "|     2509|              Maggi|Hot Heads Green C...| Pack|    India| 3.50|\n",
      "|     2402|              Maggi|Nutri-licious Paz...| Pack|    India| 3.75|\n",
      "|     2360|            Wai Wai|Instant Noodles A...| Pack|    India| 2.00|\n",
      "|     2033|Chaudhary's Wai Wai|Instant Noodles A...| Pack|    India| 2.50|\n",
      "|     1599|             Nissin|Top Ramen Super N...| Pack|    India| 3.50|\n",
      "|     1576|              Maggi|Authentic Indian ...| Pack|    India| 3.75|\n",
      "|     1566|             Nissin|Cup Noodles Tomat...|  Cup|    India| 3.25|\n",
      "|     1556|     Ching's Secret|Hot Garlic Instan...| Pack|    India| 3.75|\n",
      "|     1543|              Maggi|2 Minute Noodles ...| Pack|    India| 3.75|\n",
      "|     1519|     Ching's Secret|Manchurian Instan...| Pack|    India| 3.50|\n",
      "|     1506|             Nissin|Cup Noodles Mug N...| Pack|    India| 3.75|\n",
      "|     1489|              Maggi|Multigrainz Noodl...| Pack|    India| 3.25|\n",
      "|     1405|              Maggi|Masala Dumdaar No...| Pack|    India| 3.75|\n",
      "|      763|              Maggi|2 Minute Noodles ...| Pack|    India| 3.25|\n",
      "|      616|              Maggi|2 Minute Noodles ...| Pack|    India| 2.00|\n",
      "|      574|              Maggi|2 Minute Noodles ...| Pack|    India| 3.75|\n",
      "|      196|             Nissin|Cup Noodles Pani ...|  Cup|    India| 1.50|\n",
      "|      189|             Nissin|Cup Noodles Manch...|  Cup|    India| 3.00|\n",
      "+---------+-------------------+--------------------+-----+---------+-----+\n",
      "only showing top 20 rows\n",
      "\n"
     ]
    }
   ],
   "source": [
    "#USING NOT FUNCTION(NEGATION)\n",
    "\n",
    "spark_df.filter(~(spark_df['Stars'] >= 4.00) & (spark_df['Countries'] == 'India')).show()"
   ]
  },
  {
   "cell_type": "code",
   "execution_count": 61,
   "id": "78dc39ce",
   "metadata": {},
   "outputs": [
    {
     "name": "stdout",
     "output_type": "stream",
     "text": [
      "+-----------------+-----+\n",
      "|            Brand|count|\n",
      "+-----------------+-----+\n",
      "|          Wai Wai|   25|\n",
      "|             E-mi|    2|\n",
      "|          Payless|    6|\n",
      "|    Sakurai Foods|   10|\n",
      "|   Hsin Tung Yang|    1|\n",
      "|     Tokyo Noodle|    4|\n",
      "|        Four Seas|    8|\n",
      "|        President|    1|\n",
      "|      Ikeda Shoku|    2|\n",
      "|         Yamachan|   11|\n",
      "|         Ishimaru|    1|\n",
      "|   Nakaya Shouten|    1|\n",
      "|       Springlife|    1|\n",
      "|          Sakurai|    1|\n",
      "|Tokachimen Koubou|    1|\n",
      "|     Rocket Brand|    1|\n",
      "|   Sugakiya Foods|    2|\n",
      "|          Daikoku|    6|\n",
      "|  Sapporo Ichiban|   25|\n",
      "|            Sanpo|    1|\n",
      "+-----------------+-----+\n",
      "only showing top 20 rows\n",
      "\n"
     ]
    }
   ],
   "source": [
    "#APPLYING GROUPBY OPERATION \n",
    "\n",
    "spark_df.groupBy('Brand').count().show()"
   ]
  }
 ],
 "metadata": {
  "kernelspec": {
   "display_name": "Python 3 (ipykernel)",
   "language": "python",
   "name": "python3"
  },
  "language_info": {
   "codemirror_mode": {
    "name": "ipython",
    "version": 3
   },
   "file_extension": ".py",
   "mimetype": "text/x-python",
   "name": "python",
   "nbconvert_exporter": "python",
   "pygments_lexer": "ipython3",
   "version": "3.10.9"
  }
 },
 "nbformat": 4,
 "nbformat_minor": 5
}
